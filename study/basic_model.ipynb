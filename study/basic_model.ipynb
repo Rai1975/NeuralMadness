{
 "cells": [
  {
   "cell_type": "code",
   "execution_count": 26,
   "metadata": {},
   "outputs": [],
   "source": [
    "import torch\n",
    "import torch.nn as nn\n",
    "import torch.nn.functional as F\n",
    "import matplotlib.pyplot as plt\n",
    "import pandas as pd\n",
    "from sklearn.model_selection import train_test_split\n",
    "import numpy as np\n",
    "%matplotlib inline"
   ]
  },
  {
   "cell_type": "code",
   "execution_count": 18,
   "metadata": {},
   "outputs": [],
   "source": [
    "# Importing Iris Dataset\n",
    "data_url = 'https://gist.githubusercontent.com/netj/8836201/raw/6f9306ad21398ea43cba4f7d537619d0e07d5ae3/iris.csv'"
   ]
  },
  {
   "cell_type": "code",
   "execution_count": 5,
   "metadata": {},
   "outputs": [],
   "source": [
    "# Creating a model class\n",
    "# This is a simple neural network with an input layer, inside hidden layers and an output layer.\n",
    "class Model(nn.Module):\n",
    "    def __init__(self, in_features=4, h1=8, h2=9, output_feats=3):\n",
    "       super().__init__()\n",
    "       self.fc1 = nn.Linear(in_features, h1)\n",
    "       self.fc2 = nn.Linear(h1, h2)\n",
    "       self.out = nn.Linear(h2, output_feats)\n",
    "\n",
    "    def forward(self, x):\n",
    "        # Rectified linear unit\n",
    "        x = F.relu(self.fc1(x))\n",
    "        x = F.relu(self.fc2(x))\n",
    "        x = F.relu(self.out(x))\n",
    "\n",
    "        return x"
   ]
  },
  {
   "cell_type": "code",
   "execution_count": 6,
   "metadata": {},
   "outputs": [],
   "source": [
    "# Manually seeding for randomization to the meaning of life.\n",
    "torch.manual_seed(42)\n",
    "\n",
    "model = Model()"
   ]
  },
  {
   "cell_type": "code",
   "execution_count": 19,
   "metadata": {},
   "outputs": [],
   "source": [
    "data_df = pd.read_csv(data_url)"
   ]
  },
  {
   "cell_type": "code",
   "execution_count": 22,
   "metadata": {},
   "outputs": [
    {
     "data": {
      "text/html": [
       "<div>\n",
       "<style scoped>\n",
       "    .dataframe tbody tr th:only-of-type {\n",
       "        vertical-align: middle;\n",
       "    }\n",
       "\n",
       "    .dataframe tbody tr th {\n",
       "        vertical-align: top;\n",
       "    }\n",
       "\n",
       "    .dataframe thead th {\n",
       "        text-align: right;\n",
       "    }\n",
       "</style>\n",
       "<table border=\"1\" class=\"dataframe\">\n",
       "  <thead>\n",
       "    <tr style=\"text-align: right;\">\n",
       "      <th></th>\n",
       "      <th>sepal.length</th>\n",
       "      <th>sepal.width</th>\n",
       "      <th>petal.length</th>\n",
       "      <th>petal.width</th>\n",
       "      <th>variety</th>\n",
       "    </tr>\n",
       "  </thead>\n",
       "  <tbody>\n",
       "    <tr>\n",
       "      <th>0</th>\n",
       "      <td>5.1</td>\n",
       "      <td>3.5</td>\n",
       "      <td>1.4</td>\n",
       "      <td>0.2</td>\n",
       "      <td>0.0</td>\n",
       "    </tr>\n",
       "    <tr>\n",
       "      <th>1</th>\n",
       "      <td>4.9</td>\n",
       "      <td>3.0</td>\n",
       "      <td>1.4</td>\n",
       "      <td>0.2</td>\n",
       "      <td>0.0</td>\n",
       "    </tr>\n",
       "    <tr>\n",
       "      <th>2</th>\n",
       "      <td>4.7</td>\n",
       "      <td>3.2</td>\n",
       "      <td>1.3</td>\n",
       "      <td>0.2</td>\n",
       "      <td>0.0</td>\n",
       "    </tr>\n",
       "    <tr>\n",
       "      <th>3</th>\n",
       "      <td>4.6</td>\n",
       "      <td>3.1</td>\n",
       "      <td>1.5</td>\n",
       "      <td>0.2</td>\n",
       "      <td>0.0</td>\n",
       "    </tr>\n",
       "    <tr>\n",
       "      <th>4</th>\n",
       "      <td>5.0</td>\n",
       "      <td>3.6</td>\n",
       "      <td>1.4</td>\n",
       "      <td>0.2</td>\n",
       "      <td>0.0</td>\n",
       "    </tr>\n",
       "  </tbody>\n",
       "</table>\n",
       "</div>"
      ],
      "text/plain": [
       "   sepal.length  sepal.width  petal.length  petal.width  variety\n",
       "0           5.1          3.5           1.4          0.2      0.0\n",
       "1           4.9          3.0           1.4          0.2      0.0\n",
       "2           4.7          3.2           1.3          0.2      0.0\n",
       "3           4.6          3.1           1.5          0.2      0.0\n",
       "4           5.0          3.6           1.4          0.2      0.0"
      ]
     },
     "execution_count": 22,
     "metadata": {},
     "output_type": "execute_result"
    }
   ],
   "source": [
    "data_df.head()"
   ]
  },
  {
   "cell_type": "code",
   "execution_count": 21,
   "metadata": {},
   "outputs": [
    {
     "name": "stderr",
     "output_type": "stream",
     "text": [
      "C:\\Users\\User\\AppData\\Local\\Temp\\ipykernel_16564\\1799567608.py:3: FutureWarning: Downcasting behavior in `replace` is deprecated and will be removed in a future version. To retain the old behavior, explicitly call `result.infer_objects(copy=False)`. To opt-in to the future behavior, set `pd.set_option('future.no_silent_downcasting', True)`\n",
      "  data_df['variety'] = data_df['variety'].replace('Virginica', 2.0)\n"
     ]
    }
   ],
   "source": [
    "data_df['variety'] = data_df['variety'].replace('Setosa', 0.0)\n",
    "data_df['variety'] = data_df['variety'].replace('Versicolor', 1.0)\n",
    "data_df['variety'] = data_df['variety'].replace('Virginica', 2.0)"
   ]
  },
  {
   "cell_type": "code",
   "execution_count": 25,
   "metadata": {},
   "outputs": [],
   "source": [
    "# Training time.\n",
    "X = data_df.drop('variety', axis=1)\n",
    "y = data_df['variety']\n",
    "\n",
    "X = X.values\n",
    "y = y.values"
   ]
  },
  {
   "cell_type": "code",
   "execution_count": 28,
   "metadata": {},
   "outputs": [],
   "source": [
    "X_train, X_test, y_train, y_test = train_test_split(X,y, test_size=0.20, random_state=42)"
   ]
  },
  {
   "cell_type": "code",
   "execution_count": 29,
   "metadata": {},
   "outputs": [],
   "source": [
    "X_train = torch.FloatTensor(X_train)\n",
    "X_test = torch.FloatTensor(X_test)"
   ]
  },
  {
   "cell_type": "code",
   "execution_count": 31,
   "metadata": {},
   "outputs": [],
   "source": [
    "y_train = torch.LongTensor(y_train)\n",
    "y_test = torch.LongTensor(y_test)"
   ]
  },
  {
   "cell_type": "code",
   "execution_count": 36,
   "metadata": {},
   "outputs": [],
   "source": [
    "# Setting criteria for model\n",
    "crits = nn.CrossEntropyLoss()\n",
    "\n",
    "# Optimizer and learning rate\n",
    "optim = torch.optim.Adam(model.parameters(), lr=0.01)"
   ]
  },
  {
   "cell_type": "code",
   "execution_count": 65,
   "metadata": {},
   "outputs": [
    {
     "name": "stdout",
     "output_type": "stream",
     "text": [
      "Epoch: 0, loss 0.046815093606710434\n",
      "Epoch: 10, loss 0.0468040369451046\n",
      "Epoch: 20, loss 0.04679359495639801\n",
      "Epoch: 30, loss 0.04678359255194664\n",
      "Epoch: 40, loss 0.04677467793226242\n",
      "Epoch: 50, loss 0.046969518065452576\n",
      "Epoch: 60, loss 0.046952493488788605\n",
      "Epoch: 70, loss 0.046949729323387146\n",
      "Epoch: 80, loss 0.04699649661779404\n",
      "Epoch: 90, loss 0.04681440815329552\n"
     ]
    }
   ],
   "source": [
    "# Training!!\n",
    "epochs = 100\n",
    "losses = []\n",
    "for i in range(epochs):\n",
    "    # forward operation\n",
    "    y_pred = model.forward(X_train)\n",
    "\n",
    "    # keeping track of loss\n",
    "    loss = crits(y_pred, y_train)   # Predicted value vs training valie\n",
    "\n",
    "    losses.append(loss.detach().numpy())\n",
    "\n",
    "    if i % 10 == 0:\n",
    "        print(f\"Epoch: {i}, loss {loss}\")\n",
    "    \n",
    "    # Back propogation: Take the error rate fo fwd prop, and feed it back thru the network to fine-tune the weights.\n",
    "    optim.zero_grad()\n",
    "    loss.backward()\n",
    "    optim.step()"
   ]
  },
  {
   "cell_type": "code",
   "execution_count": 54,
   "metadata": {},
   "outputs": [
    {
     "data": {
      "text/plain": [
       "Text(0.5, 0, 'epoch')"
      ]
     },
     "execution_count": 54,
     "metadata": {},
     "output_type": "execute_result"
    },
    {
     "data": {
      "image/png": "[encoded data removed]",
      "text/plain": [
       "<Figure size 640x480 with 1 Axes>"
      ]
     },
     "metadata": {},
     "output_type": "display_data"
    }
   ],
   "source": [
    "plt.plot(range(epochs), losses)\n",
    "plt.ylabel(\"loss\")\n",
    "plt.xlabel(\"epoch\")"
   ]
  },
  {
   "cell_type": "code",
   "execution_count": 55,
   "metadata": {},
   "outputs": [],
   "source": [
    "with torch.no_grad():\n",
    "    y_eval = model.forward(X_test)\n",
    "    loss = crits(y_eval, y_test)"
   ]
  },
  {
   "cell_type": "code",
   "execution_count": 56,
   "metadata": {},
   "outputs": [
    {
     "data": {
      "text/plain": [
       "tensor(0.0279)"
      ]
     },
     "execution_count": 56,
     "metadata": {},
     "output_type": "execute_result"
    }
   ],
   "source": [
    "loss"
   ]
  },
  {
   "cell_type": "code",
   "execution_count": 66,
   "metadata": {},
   "outputs": [
    {
     "name": "stdout",
     "output_type": "stream",
     "text": [
      "1. tensor([ 0.0000, 11.1361,  2.5858]) \t 1\n",
      "2. tensor([29.8419, 19.2877,  0.0000]) \t 0\n",
      "3. tensor([ 0.0000,  6.4822, 30.3112]) \t 2\n",
      "4. tensor([ 0.0000, 10.4204,  4.5201]) \t 1\n",
      "5. tensor([ 0.0000, 11.3092,  5.1307]) \t 1\n",
      "6. tensor([27.9333, 18.0421,  0.0000]) \t 0\n",
      "7. tensor([ 0.3550, 11.6815,  0.0000]) \t 1\n",
      "8. tensor([ 0.0000,  8.5781, 16.5702]) \t 2\n",
      "9. tensor([0.0000, 9.4007, 7.8136]) \t 1\n",
      "10. tensor([ 0.0000, 11.5473,  0.0000]) \t 1\n",
      "11. tensor([ 0.0000,  9.2209, 12.7280]) \t 2\n",
      "12. tensor([26.6736, 17.0231,  0.0000]) \t 0\n",
      "13. tensor([29.3692, 18.8080,  0.0000]) \t 0\n",
      "14. tensor([27.1300, 17.3254,  0.0000]) \t 0\n",
      "15. tensor([28.6192, 18.3114,  0.0000]) \t 0\n",
      "16. tensor([ 0.0000, 10.9890,  4.8519]) \t 1\n",
      "17. tensor([ 0.0000,  7.2843, 20.7979]) \t 2\n",
      "18. tensor([ 0.0000, 11.2355,  0.0000]) \t 1\n",
      "19. tensor([ 0.0000, 10.4932,  2.8081]) \t 1\n",
      "20. tensor([ 0.0000,  7.0274, 20.5414]) \t 2\n",
      "21. tensor([26.5158, 16.9186,  0.0000]) \t 0\n",
      "22. tensor([ 0.0000,  9.2223, 10.2660]) \t 2\n",
      "23. tensor([27.0777, 17.3569,  0.0000]) \t 0\n",
      "24. tensor([ 0.0000,  7.3659, 19.3175]) \t 2\n",
      "25. tensor([ 0.0000, 10.6381, 17.2449]) \t 2\n",
      "26. tensor([ 0.0000,  7.9864, 17.8873]) \t 2\n",
      "27. tensor([ 0.0000,  7.9897, 18.2090]) \t 2\n",
      "28. tensor([ 0.0000,  7.6086, 21.4546]) \t 2\n",
      "29. tensor([26.1411, 16.6705,  0.0000]) \t 0\n",
      "30. tensor([26.5718, 16.9557,  0.0000]) \t 0\n",
      "Corrects: 30\n"
     ]
    }
   ],
   "source": [
    "corrects = 0\n",
    "with torch.no_grad():\n",
    "    for i,data in enumerate(X_test):\n",
    "        y_val = model.forward(data)\n",
    "\n",
    "        print(f\"{i + 1}. {str(y_val)} \\t {y_test[i]}\")\n",
    "\n",
    "        if y_val.argmax().item() == y_test[i]:\n",
    "            corrects += 1\n",
    "    \n",
    "    print(f\"Corrects: {corrects}\")"
   ]
  }
 ],
 "metadata": {
  "kernelspec": {
   "display_name": "Python 3",
   "language": "python",
   "name": "python3"
  },
  "language_info": {
   "codemirror_mode": {
    "name": "ipython",
    "version": 3
   },
   "file_extension": ".py",
   "mimetype": "text/x-python",
   "name": "python",
   "nbconvert_exporter": "python",
   "pygments_lexer": "ipython3",
   "version": "3.12.1"
  }
 },
 "nbformat": 4,
 "nbformat_minor": 2
}
